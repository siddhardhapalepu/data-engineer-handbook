{
 "cells": [
  {
   "cell_type": "code",
   "execution_count": 1,
   "id": "6174ced5-e957-4854-b6d8-87a0fc81d138",
   "metadata": {},
   "outputs": [
    {
     "name": "stderr",
     "output_type": "stream",
     "text": [
      "24/12/16 16:05:58 WARN SparkSession: Using an existing Spark session; only runtime SQL configurations will take effect.\n",
      "                                                                                \r"
     ]
    },
    {
     "name": "stdout",
     "output_type": "stream",
     "text": [
      "root\n",
      " |-- match_id: string (nullable = true)\n",
      " |-- player_gamertag: string (nullable = true)\n",
      " |-- medal_id: long (nullable = true)\n",
      " |-- count: integer (nullable = true)\n",
      "\n"
     ]
    },
    {
     "name": "stderr",
     "output_type": "stream",
     "text": [
      "                                                                                \r"
     ]
    }
   ],
   "source": [
    "from pyspark.sql import SparkSession\n",
    "from pyspark.sql import functions as F\n",
    "\n",
    "spark = SparkSession.builder.appName('BroadcastJoin').getOrCreate()\n",
    "spark.conf.set(\"spark.sql.autoBroadcastJoinThreshold\", \"-1\")\n",
    "\n",
    "\n",
    "medals_df = spark.read.option(\"header\", \"true\").option(\"inferSchema\", \"true\").csv(\"/home/iceberg/data/medals.csv\")\n",
    "                                                       \n",
    "maps_df = spark.read.option('header', 'true').option(\"inferSchema\", \"true\").csv('/home/iceberg/data/maps.csv')\n",
    "\n",
    "matches_df = spark.read.option('header', 'true').option(\"inferSchema\", \"true\").csv(\"/home/iceberg/data/matches.csv\")\n",
    "\n",
    "matchDetails_df =  spark.read.option(\"header\", \"true\").option(\"inferSchema\", \"true\").csv(\"/home/iceberg/data/match_details.csv\")\n",
    "\n",
    "medal_match_df =  spark.read.option(\"header\", \"true\").option(\"inferSchema\", \"true\").csv(\"/home/iceberg/data/medals_matches_players.csv\")\n",
    "\n",
    "# Creating matches bucketed table\n",
    "matches_bucketed_ddl = \"\"\"\n",
    "CREATE TABLE IF NOT EXISTS bootcamp.matches_bucketed (\n",
    "    match_id STRING,\n",
    "    mapid STRING,\n",
    "    playlist_id STRING,\n",
    "    is_match_over BOOLEAN,\n",
    "    is_team_game BOOLEAN,\n",
    "    completion_date TIMESTAMP\n",
    ")\n",
    "USING iceberg\n",
    "PARTITIONED BY (completion_date, bucket(16, match_id))\n",
    "\"\"\"\n",
    "\n",
    "# Execute the DDL statement\n",
    "spark.sql(\"\"\"DROP TABLE IF EXISTS bootcamp.matches_bucketed\"\"\")\n",
    "spark.sql(matches_bucketed_ddl)\n",
    "\n",
    "matches_df.select(\n",
    "     F.col(\"match_id\"), F.col(\"mapid\"),F.col(\"playlist_id\"),\\\n",
    "       F.col(\"is_match_over\"), F.col(\"is_team_game\"),  F.col(\"completion_date\")\n",
    "    ).writeTo(\"bootcamp.matches_bucketed\") \\\n",
    " .option(\"write.distribution-mode\", \"hash\") \\\n",
    " .createOrReplace()\n",
    "\n",
    "spark.sql(\"select * from bootcamp.matches_bucketed \")\n"
   ]
  },
  {
   "cell_type": "code",
   "execution_count": 34,
   "id": "24e05642-5e04-4199-b5b7-cabd71f930a9",
   "metadata": {},
   "outputs": [
    {
     "name": "stdout",
     "output_type": "stream",
     "text": [
      "root\n",
      " |-- mapid: string (nullable = true)\n",
      " |-- name: string (nullable = true)\n",
      " |-- description: string (nullable = true)\n",
      "\n",
      "+--------------------+-------------------+--------------------+\n",
      "|               mapid|               name|         description|\n",
      "+--------------------+-------------------+--------------------+\n",
      "|c93d708f-f206-11e...|              Urban|Andesia was the c...|\n",
      "|cb251c51-f206-11e...|     Raid on Apex 7|This unbroken rin...|\n",
      "|c854e54f-f206-11e...|March on Stormbreak|                NULL|\n",
      "|c8d69870-f206-11e...| Escape from A.R.C.|Scientists flocke...|\n",
      "|73ed1fd0-45e5-4bb...|             Osiris|                NULL|\n",
      "|96c3e3dd-7703-408...|          Blue Team|                NULL|\n",
      "|1c4f8e19-b046-4f7...|            Glassed|                NULL|\n",
      "|825065cf-df57-42e...|        Unconfirmed|                NULL|\n",
      "|9a188f67-1664-4d7...|           Alliance|                NULL|\n",
      "|2702ea83-2c3e-4fd...|   Before the Storm|                NULL|\n",
      "|82f8471c-a2ef-408...|            Genesis|                NULL|\n",
      "|fcd7caa4-37c9-436...|       The Breaking|                NULL|\n",
      "|7dc80b62-dd39-41d...|          Guardians|                NULL|\n",
      "|db9f76c4-6f9a-4c1...|   Meridian Station|                NULL|\n",
      "|b486c8f6-0b00-4a4...|         Evacuation|                NULL|\n",
      "|37c717b8-7ae8-4be...|            Reunion|                NULL|\n",
      "|72c98d4a-4ee4-40d...|Sword of Sanghelios|                NULL|\n",
      "|f352eafd-d307-434...|        Enemy Lines|                NULL|\n",
      "|8d72dd82-3afb-409...|  Battle of Sunaion|                NULL|\n",
      "|c822b1c0-f206-11e...|             Summit|The half-real spa...|\n",
      "+--------------------+-------------------+--------------------+\n",
      "only showing top 20 rows\n",
      "\n"
     ]
    }
   ],
   "source": [
    "maps_df.printSchema()\n",
    "maps_df.show()"
   ]
  },
  {
   "cell_type": "code",
   "execution_count": 20,
   "id": "bbba946f-b55d-4e5c-a8eb-24a4cfa1af1b",
   "metadata": {},
   "outputs": [
    {
     "name": "stdout",
     "output_type": "stream",
     "text": [
      "root\n",
      " |-- medal_id: long (nullable = true)\n",
      " |-- sprite_uri: string (nullable = true)\n",
      " |-- sprite_left: integer (nullable = true)\n",
      " |-- sprite_top: integer (nullable = true)\n",
      " |-- sprite_sheet_width: integer (nullable = true)\n",
      " |-- sprite_sheet_height: integer (nullable = true)\n",
      " |-- sprite_width: integer (nullable = true)\n",
      " |-- sprite_height: integer (nullable = true)\n",
      " |-- classification: string (nullable = true)\n",
      " |-- description: string (nullable = true)\n",
      " |-- name: string (nullable = true)\n",
      " |-- difficulty: integer (nullable = true)\n",
      "\n",
      "+----------+--------------------+-----------+----------+------------------+-------------------+------------+-------------+-----------------+--------------------+--------------+----------+\n",
      "|  medal_id|          sprite_uri|sprite_left|sprite_top|sprite_sheet_width|sprite_sheet_height|sprite_width|sprite_height|   classification|         description|          name|difficulty|\n",
      "+----------+--------------------+-----------+----------+------------------+-------------------+------------+-------------+-----------------+--------------------+--------------+----------+\n",
      "|2315448068|                NULL|       NULL|      NULL|              NULL|               NULL|        NULL|         NULL|             NULL|                NULL|          NULL|      NULL|\n",
      "|3565441934|                NULL|       NULL|      NULL|              NULL|               NULL|        NULL|         NULL|             NULL|                NULL|          NULL|      NULL|\n",
      "|4162659350|https://content.h...|        750|       750|                74|                 74|        1125|          899|         Breakout|Kill the last ene...| Buzzer Beater|        45|\n",
      "|1573153198|https://content.h...|          0|       300|                74|                 74|        1125|          899|         Breakout|Survive a one-on-...|    Vanquisher|        30|\n",
      "| 298813630|https://content.h...|          0|       825|                74|                 74|        1125|          899|            Style|Kill an enemy wit...|Spartan Charge|       135|\n",
      "|3824002610|https://content.h...|        750|       600|                74|                 74|        1125|          899|         Vehicles|Assist a player i...|  Ghost Assist|       140|\n",
      "|3324603383|https://content.h...|        225|       750|                74|                 74|        1125|          899|          Warzone|       Kill a Grunt.|    Grunt Kill|        60|\n",
      "| 979431049|https://content.h...|        975|       675|                74|                 74|        1125|          899|         Breakout|Survive a two-on-...|       Bifecta|        25|\n",
      "|3098362934|https://content.h...|        150|       750|                74|                 74|        1125|          899|WeaponProficiency|Kill a player in ...|  Perfect Kill|        25|\n",
      "|2435743433|https://content.h...|        750|       225|                74|                 74|        1125|          899|          Warzone|Kill an enemy in ...|  Base Defense|        30|\n",
      "|2430242797|https://content.h...|        675|       300|                74|                 74|        1125|          899|     KillingSpree|Kill 5 opponents ...| Killing Spree|        45|\n",
      "|1427531503|https://content.h...|        375|         0|                74|                 74|        1125|          899|            Style|Assist in a Team ...| Team Takedown|       245|\n",
      "|2359847435|https://content.h...|        525|       375|                74|                 74|        1125|          899|         Breakout|Kill every member...|    Extinction|        35|\n",
      "|1691836029|https://content.h...|        150|       375|                74|                 74|        1350|          824|            Style|Recharge your shi...|   Hard Target|       105|\n",
      "|2766284219|https://content.h...|        150|       525|                74|                 74|        1125|          899|            Style|Kill an opponent ...|     Quickdraw|       200|\n",
      "|3354395650|https://content.h...|        375|       600|                74|                 74|        1125|          899|      Strongholds|Capture 3 Strongh...| Capture Spree|        10|\n",
      "|2564994165|                NULL|       NULL|      NULL|              NULL|               NULL|        NULL|         NULL|WeaponProficiency|Pick up 3 power w...|Big Gun Runner|        75|\n",
      "|2896365521|https://content.h...|        300|       450|                74|                 74|        1125|          899|            Style|Assist in a Team ...| Team Takedown|       245|\n",
      "|3786961025|https://content.h...|        900|       450|                74|                 74|        1125|          899|            Style|Kill an opponent ...|      Fastball|        65|\n",
      "| 243900335|https://content.h...|        750|       375|                74|                 74|        1350|          824|WeaponProficiency|Kill an enemy by ...|  Shotgun Kill|       110|\n",
      "+----------+--------------------+-----------+----------+------------------+-------------------+------------+-------------+-----------------+--------------------+--------------+----------+\n",
      "only showing top 20 rows\n",
      "\n"
     ]
    }
   ],
   "source": [
    "medals_df.printSchema()\n",
    "medals_df.show()"
   ]
  },
  {
   "cell_type": "code",
   "execution_count": 16,
   "id": "7402b645-09c1-4038-8391-8caaf6a73de3",
   "metadata": {},
   "outputs": [
    {
     "name": "stdout",
     "output_type": "stream",
     "text": [
      "root\n",
      " |-- match_id: string (nullable = true)\n",
      " |-- mapid: string (nullable = true)\n",
      " |-- is_team_game: boolean (nullable = true)\n",
      " |-- playlist_id: string (nullable = true)\n",
      " |-- game_variant_id: string (nullable = true)\n",
      " |-- is_match_over: boolean (nullable = true)\n",
      " |-- completion_date: timestamp (nullable = true)\n",
      " |-- match_duration: string (nullable = true)\n",
      " |-- game_mode: string (nullable = true)\n",
      " |-- map_variant_id: string (nullable = true)\n",
      "\n"
     ]
    }
   ],
   "source": [
    "matches_df.printSchema()"
   ]
  },
  {
   "cell_type": "code",
   "execution_count": 19,
   "id": "5f2b672d-8bcd-41aa-b9fb-f7179108a9cf",
   "metadata": {},
   "outputs": [
    {
     "name": "stdout",
     "output_type": "stream",
     "text": [
      "root\n",
      " |-- match_id: string (nullable = true)\n",
      " |-- player_gamertag: string (nullable = true)\n",
      " |-- medal_id: long (nullable = true)\n",
      " |-- count: integer (nullable = true)\n",
      "\n",
      "+--------------------+---------------+----------+-----+\n",
      "|            match_id|player_gamertag|  medal_id|count|\n",
      "+--------------------+---------------+----------+-----+\n",
      "|009fdac5-e15c-47c...|       EcZachly|3261908037|    7|\n",
      "|009fdac5-e15c-47c...|       EcZachly| 824733727|    2|\n",
      "|009fdac5-e15c-47c...|       EcZachly|2078758684|    2|\n",
      "|009fdac5-e15c-47c...|       EcZachly|2782465081|    2|\n",
      "|9169d1a3-955c-4ea...|       EcZachly|3001183151|    1|\n",
      "|9169d1a3-955c-4ea...|       EcZachly|3565443938|    6|\n",
      "|9169d1a3-955c-4ea...|       EcZachly|3491849182|    1|\n",
      "|4a078b2f-65eb-4c6...|       EcZachly|3261908037|    8|\n",
      "|9169d1a3-955c-4ea...|       EcZachly|2105198095|    6|\n",
      "|9169d1a3-955c-4ea...|       EcZachly|2916014239|    3|\n",
      "|9169d1a3-955c-4ea...|       EcZachly|3261908037|    6|\n",
      "|9169d1a3-955c-4ea...|       EcZachly|1351381581|    2|\n",
      "|9169d1a3-955c-4ea...|       EcZachly|2838259753|    1|\n",
      "|9169d1a3-955c-4ea...|       EcZachly|3354395650|    1|\n",
      "|9169d1a3-955c-4ea...|       EcZachly| 298813630|    1|\n",
      "|9169d1a3-955c-4ea...|       EcZachly|2430242797|    1|\n",
      "|5ae5a459-6372-491...|       EcZachly|3261908037|    9|\n",
      "|5ae5a459-6372-491...|       EcZachly|2078758684|    2|\n",
      "|5ae5a459-6372-491...|       EcZachly| 824733727|    1|\n",
      "|5ae5a459-6372-491...|       EcZachly|1080468863|    1|\n",
      "+--------------------+---------------+----------+-----+\n",
      "only showing top 20 rows\n",
      "\n"
     ]
    }
   ],
   "source": [
    "medal_match_df.printSchema()\n",
    "medal_match_df.show()"
   ]
  },
  {
   "cell_type": "code",
   "execution_count": 65,
   "id": "5fe35e3d-7b46-42ea-b3b9-8329e163c821",
   "metadata": {},
   "outputs": [
    {
     "name": "stdout",
     "output_type": "stream",
     "text": [
      "+--------------------+---------------+---------------------+------------+-----------------+--------+-----------------+------------------------+------------+---------------------------------+-----------------+----------------+-----------------------+-----------+--------------------------------+----------------+-------------------+---------------+-------------------+------------------+----------------------+--------------------------+-------------------------+------------------------+-------------------------+---------------------------+-------------------------------+--------------------------------+---------------------------+--------------------------------+-------------------------------+-------------------+--------------------+--------------------------+-------+-------+\n",
      "|            match_id|player_gamertag|previous_spartan_rank|spartan_rank|previous_total_xp|total_xp|previous_csr_tier|previous_csr_designation|previous_csr|previous_csr_percent_to_next_tier|previous_csr_rank|current_csr_tier|current_csr_designation|current_csr|current_csr_percent_to_next_tier|current_csr_rank|player_rank_on_team|player_finished|player_average_life|player_total_kills|player_total_headshots|player_total_weapon_damage|player_total_shots_landed|player_total_melee_kills|player_total_melee_damage|player_total_assassinations|player_total_ground_pound_kills|player_total_shoulder_bash_kills|player_total_grenade_damage|player_total_power_weapon_damage|player_total_power_weapon_grabs|player_total_deaths|player_total_assists|player_total_grenade_kills|did_win|team_id|\n",
      "+--------------------+---------------+---------------------+------------+-----------------+--------+-----------------+------------------------+------------+---------------------------------+-----------------+----------------+-----------------------+-----------+--------------------------------+----------------+-------------------+---------------+-------------------+------------------+----------------------+--------------------------+-------------------------+------------------------+-------------------------+---------------------------+-------------------------------+--------------------------------+---------------------------+--------------------------------+-------------------------------+-------------------+--------------------+--------------------------+-------+-------+\n",
      "|71d79b23-4143-435...|      taterbase|                    5|           5|            12537|   13383|                1|                       3|           0|                               98|             NULL|               2|                      3|          0|                              26|            NULL|                  4|          false|        PT14.81149S|                 6|                     4|                     255.0|                       28|                       0|                      0.0|                          0|                              0|                               0|                        0.0|                             0.0|                              0|                 13|                   1|                         0|      1|      1|\n",
      "|71d79b23-4143-435...| SuPeRSaYaInG0D|                   18|          18|           131943|  132557|                2|                       3|           0|                                2|             NULL|               1|                      3|          0|                              76|            NULL|                  7|          false|      PT11.2990845S|                 7|                     3|        350.58792304992676|                       49|                       1|                     45.0|                          0|                              0|                               0|                        0.0|                             0.0|                              0|                 18|                   2|                         0|      0|      0|\n",
      "|71d79b23-4143-435...|       EcZachly|                   21|          21|           168811|  169762|                2|                       5|           0|                               94|             NULL|               3|                      5|          0|                              24|            NULL|                  3|          false|      PT19.1357063S|                12|                    12|                     625.0|                       43|                       0|                      0.0|                          0|                              0|                               0|                        0.0|                             0.0|                              0|                 10|                   4|                         0|      1|      1|\n",
      "|71d79b23-4143-435...|    johnsnake04|                   14|          14|            64073|   64639|             NULL|                    NULL|        NULL|                             NULL|             NULL|            NULL|                   NULL|       NULL|                            NULL|            NULL|                  6|          false|      PT21.1521599S|                13|                    13|                     605.0|                       24|                       0|                      0.0|                          0|                              0|                               0|                        0.0|                             0.0|                              0|                  9|                   2|                         0|      0|      0|\n",
      "|71d79b23-4143-435...| Super Mac Bros|                   26|          26|           243425|  244430|                1|                       5|           0|                               86|             NULL|               2|                      5|          0|                               8|            NULL|                  2|          false|      PT12.8373793S|                13|                    12|                     595.0|                       32|                       1|       20.004501342773438|                          0|                              0|                               0|                        0.0|                             0.0|                              0|                 15|                   2|                         0|      1|      1|\n",
      "|71d79b23-4143-435...|   Wingspear0k8|                   18|          18|           129281|  129937|             NULL|                    NULL|        NULL|                             NULL|             NULL|               1|                      5|          0|                               0|            NULL|                  5|          false|      PT17.4531394S|                21|                    18|         822.8789710998535|                       53|                       2|        90.00449999980628|                          0|                              0|                               0|                        0.0|                             0.0|                              0|                 11|                   0|                         0|      0|      0|\n",
      "|71d79b23-4143-435...|  JakeWilson801|                   18|          18|           118483|  119849|                1|                       4|           0|                               96|             NULL|               2|                      4|          0|                              24|            NULL|                  1|          false|       PT21.154286S|                19|                    18|                     865.0|                       57|                       0|                      0.0|                          0|                              0|                               0|                        0.0|                             0.0|                              0|                  9|                   1|                         0|      1|      1|\n",
      "|71d79b23-4143-435...|       xTOTIx12|                   16|          16|            91632|   92224|             NULL|                    NULL|        NULL|                             NULL|             NULL|            NULL|                   NULL|       NULL|                            NULL|            NULL|                  8|          false|      PT14.8119293S|                 6|                     6|        274.90775299072266|                       26|                       0|                      0.0|                          0|                              0|                               0|                        0.0|                             0.0|                              0|                 13|                   1|                         0|      0|      0|\n",
      "|fc3cefc0-954a-456...|       EcZachly|                   61|          61|          1276248| 1276979|                1|                       5|           0|                                8|             NULL|               1|                      5|          0|                               0|            NULL|                  5|          false|      PT17.4548378S|                 9|                     9|                     410.0|                       16|                       0|                      0.0|                          0|                              0|                               0|                        0.0|                             0.0|                              0|                 10|                   1|                         0|      0|      1|\n",
      "|fc3cefc0-954a-456...|  De Spelbreker|                   83|          83|          2303102| 2304723|                3|                       4|           0|                               68|             NULL|               3|                      4|          0|                              96|            NULL|                  4|          false|      PT22.5787499S|                10|                     8|        385.00000190734863|                       29|                       2|                     65.0|                          0|                              0|                               0|                        0.0|                             0.0|                              0|                  7|                   1|                         0|      1|      0|\n",
      "|fc3cefc0-954a-456...|xXJointProXx NL|                   61|          62|          1279098| 1280871|                2|                       4|           0|                               68|             NULL|               2|                      4|          0|                              92|            NULL|                  1|          false|       PT19.742837S|                15|                    14|                     615.0|                       33|                       0|                     45.0|                          1|                              0|                               0|                        0.0|                             0.0|                              0|                  8|                   0|                         0|      1|      0|\n",
      "|fc3cefc0-954a-456...|   Stormbane321|                   14|          14|            70556|   71050|                1|                       4|           0|                               48|             NULL|               1|                      4|          0|                              32|            NULL|                  6|          false|        PT11.61249S|                 9|                     9|                     450.0|                       25|                       0|                      0.0|                          0|                              0|                               0|                        0.0|                             0.0|                              0|                 13|                   0|                         0|      0|      1|\n",
      "|fc3cefc0-954a-456...|     deVerdeler|                   82|          82|          2271708| 2272786|                5|                       4|           0|                               96|             NULL|               6|                      4|          0|                              22|            NULL|                  2|          false|      PT15.5739569S|                13|                    12|                     580.0|                       26|                       1|        45.00450134277344|                          0|                              0|                               0|                        0.0|                             0.0|                              0|                 10|                   1|                         0|      1|      0|\n",
      "|fc3cefc0-954a-456...|   TaubeGraph07|                   45|          45|           668043|  668697|                2|                       4|           0|                               26|             NULL|               2|                      4|          0|                               6|            NULL|                  8|          false|      PT10.6332601S|                 5|                     5|        242.49999952316284|                       13|                       0|                      0.0|                          0|                              0|                               0|                        0.0|                             0.0|                              0|                 14|                   0|                         0|      0|      1|\n",
      "|fc3cefc0-954a-456...|      derkarl15|                   51|          51|           910510|  911173|                6|                       3|           0|                               68|             NULL|               6|                      3|          0|                              48|            NULL|                  7|          false|      PT12.5038253S|                 8|                     6|                     305.0|                       18|                       2|        90.00449999980628|                          0|                              0|                               0|                        0.0|                             0.0|                              0|                 13|                   1|                         0|      0|      1|\n",
      "|fc3cefc0-954a-456...|   Skainai sama|                   28|          28|           295532|  296926|             NULL|                    NULL|        NULL|                             NULL|             NULL|            NULL|                   NULL|       NULL|                            NULL|            NULL|                  3|          false|      PT26.2458304S|                12|                    12|                     565.0|                       28|                       0|                      0.0|                          0|                              0|                               0|                        0.0|                             0.0|                              0|                  6|                   2|                         0|      1|      0|\n",
      "|322ae96f-7c46-450...|         Acerr1|                   27|          27|           272613|  273951|                4|                       4|           0|                               56|             NULL|               5|                      4|          0|                               6|            NULL|                  4|          false|      PT24.6986235S|                15|                     5|         2232.053300857544|                      156|                       2|        77.82261085510254|                          1|                              0|                               0|           281.012451171875|              294.22798585891724|                              0|                 14|                   7|                         1|      1|      0|\n",
      "|322ae96f-7c46-450...| Outlaw Fo LifE|                  111|         111|          3952656| 3953981|                6|                       5|           0|                               76|             NULL|               6|                      5|          0|                              32|            NULL|                  7|          false|      PT20.8639847S|                13|                     1|        2506.9466705322266|                      268|                       0|                    140.0|                          0|                              0|                               0|          557.2050848007202|                             0.0|                              0|                 16|                  18|                         1|      0|      1|\n",
      "|322ae96f-7c46-450...|    ILLICIT 117|                   84|          84|          2424679| 2426570|                1|                       5|           0|                               82|             NULL|               2|                      5|          0|                              28|            NULL|                  1|          false|       PT16.523964S|                 6|                     4|         743.8497371673584|                       57|                       1|                    210.0|                          0|                              0|                               0|          104.0456314086914|                             0.0|                              0|                 19|                   8|                         0|      1|      0|\n",
      "|322ae96f-7c46-450...| Darknight 1993|                  105|         105|          3500833| 3502154|                5|                       5|           0|                               68|             NULL|               5|                      5|          0|                              22|            NULL|                  6|          false|      PT20.8523365S|                21|                     5|        2009.4742918014526|                      162|                       5|        369.8188018798828|                          0|                              0|                               0|          629.1446075439453|               135.5218963623047|                              0|                 16|                  13|                         4|      0|      1|\n",
      "+--------------------+---------------+---------------------+------------+-----------------+--------+-----------------+------------------------+------------+---------------------------------+-----------------+----------------+-----------------------+-----------+--------------------------------+----------------+-------------------+---------------+-------------------+------------------+----------------------+--------------------------+-------------------------+------------------------+-------------------------+---------------------------+-------------------------------+--------------------------------+---------------------------+--------------------------------+-------------------------------+-------------------+--------------------+--------------------------+-------+-------+\n",
      "only showing top 20 rows\n",
      "\n",
      "root\n",
      " |-- match_id: string (nullable = true)\n",
      " |-- player_gamertag: string (nullable = true)\n",
      " |-- previous_spartan_rank: integer (nullable = true)\n",
      " |-- spartan_rank: integer (nullable = true)\n",
      " |-- previous_total_xp: integer (nullable = true)\n",
      " |-- total_xp: integer (nullable = true)\n",
      " |-- previous_csr_tier: integer (nullable = true)\n",
      " |-- previous_csr_designation: integer (nullable = true)\n",
      " |-- previous_csr: integer (nullable = true)\n",
      " |-- previous_csr_percent_to_next_tier: integer (nullable = true)\n",
      " |-- previous_csr_rank: integer (nullable = true)\n",
      " |-- current_csr_tier: integer (nullable = true)\n",
      " |-- current_csr_designation: integer (nullable = true)\n",
      " |-- current_csr: integer (nullable = true)\n",
      " |-- current_csr_percent_to_next_tier: integer (nullable = true)\n",
      " |-- current_csr_rank: integer (nullable = true)\n",
      " |-- player_rank_on_team: integer (nullable = true)\n",
      " |-- player_finished: boolean (nullable = true)\n",
      " |-- player_average_life: string (nullable = true)\n",
      " |-- player_total_kills: integer (nullable = true)\n",
      " |-- player_total_headshots: integer (nullable = true)\n",
      " |-- player_total_weapon_damage: double (nullable = true)\n",
      " |-- player_total_shots_landed: integer (nullable = true)\n",
      " |-- player_total_melee_kills: integer (nullable = true)\n",
      " |-- player_total_melee_damage: double (nullable = true)\n",
      " |-- player_total_assassinations: integer (nullable = true)\n",
      " |-- player_total_ground_pound_kills: integer (nullable = true)\n",
      " |-- player_total_shoulder_bash_kills: integer (nullable = true)\n",
      " |-- player_total_grenade_damage: double (nullable = true)\n",
      " |-- player_total_power_weapon_damage: double (nullable = true)\n",
      " |-- player_total_power_weapon_grabs: integer (nullable = true)\n",
      " |-- player_total_deaths: integer (nullable = true)\n",
      " |-- player_total_assists: integer (nullable = true)\n",
      " |-- player_total_grenade_kills: integer (nullable = true)\n",
      " |-- did_win: integer (nullable = true)\n",
      " |-- team_id: integer (nullable = true)\n",
      "\n"
     ]
    }
   ],
   "source": [
    "matchDetails_df.show()\n",
    "matchDetails_df.printSchema()"
   ]
  },
  {
   "cell_type": "code",
   "execution_count": 3,
   "id": "b060aa90-7f92-49a3-ae32-83d3b8d06351",
   "metadata": {},
   "outputs": [],
   "source": [
    "# Creating matches_details bucketed table\n",
    "\n",
    "match_details_bucketed_DDL = \"\"\"\n",
    " CREATE TABLE IF NOT EXISTS bootcamp.match_details_bucketed (\n",
    "     match_id STRING,\n",
    "     player_gamertag STRING,\n",
    "     player_total_kills INTEGER,\n",
    "     player_total_deaths INTEGER\n",
    " )\n",
    " USING iceberg\n",
    " PARTITIONED BY (bucket(16, match_id));\n",
    " \"\"\"\n",
    "spark.sql(\"\"\"DROP TABLE IF EXISTS bootcamp.match_details_bucketed\"\"\")\n",
    "spark.sql(match_details_bucketed_DDL)\n",
    "\n",
    "matchDetails_df.select(\n",
    "     F.col(\"match_id\"), F.col(\"player_gamertag\"),F.col(\"player_total_kills\"),\\\n",
    "       F.col(\"player_total_deaths\")\n",
    "    ).writeTo(\"bootcamp.match_details_bucketed\") \\\n",
    " .option(\"write.distribution-mode\", \"hash\") \\\n",
    " .createOrReplace()\n",
    "\n"
   ]
  },
  {
   "cell_type": "code",
   "execution_count": null,
   "id": "5abd5420-fbf7-49dd-8f55-3e35e4ae227e",
   "metadata": {},
   "outputs": [],
   "source": [
    "%%sql \n",
    "SELECT\n",
    "  *\n",
    "FROM\n",
    "  bootcamp.match_details_bucketed;"
   ]
  },
  {
   "cell_type": "code",
   "execution_count": 5,
   "id": "f225a393-5756-4b90-b093-7ffbce3748aa",
   "metadata": {},
   "outputs": [],
   "source": [
    "medals_matches_players_bucketed_ddl = \"\"\"\n",
    " CREATE TABLE IF NOT EXISTS bootcamp.medals_matches_players_bucketed (\n",
    "     match_id STRING,\n",
    "     player_gamertag STRING,\n",
    "     medal_id LONG,\n",
    "     count INTEGER\n",
    " )\n",
    " USING iceberg\n",
    " PARTITIONED BY (bucket(16, match_id));\n",
    " \"\"\"\n",
    "\n",
    "spark.sql(\"\"\"DROP TABLE IF EXISTS bootcamp.medals_matches_players_bucketed\"\"\")\n",
    "spark.sql(medals_matches_players_bucketed_ddl)\n",
    "medal_match_df.select(\n",
    "     F.col(\"match_id\"), F.col(\"player_gamertag\"),F.col(\"medal_id\"),\\\n",
    "       F.col(\"count\")\n",
    "    ).writeTo(\"bootcamp.medals_matches_players_bucketed\") \\\n",
    " .option(\"write.distribution-mode\", \"hash\") \\\n",
    " .createOrReplace()\n",
    "\n"
   ]
  },
  {
   "cell_type": "code",
   "execution_count": 67,
   "id": "d7ba7dc6-eae8-4b04-b1d9-5f3bfc977557",
   "metadata": {},
   "outputs": [
    {
     "name": "stdout",
     "output_type": "stream",
     "text": [
      "+--------------------+--------------------+--------------------+-------------------+---------------+----------+-----+\n",
      "|            match_id|               mapid|         playlist_id|    completion_date|player_gamertag|  medal_id|count|\n",
      "+--------------------+--------------------+--------------------+-------------------+---------------+----------+-----+\n",
      "|00169217-cca6-4b4...|cc040aa1-f206-11e...|2323b76a-db98-4e0...|2016-03-13 00:00:00|  King Terror V|3261908037|   11|\n",
      "|00169217-cca6-4b4...|cc040aa1-f206-11e...|2323b76a-db98-4e0...|2016-03-13 00:00:00|  King Terror V|3001183151|    1|\n",
      "|00169217-cca6-4b4...|cc040aa1-f206-11e...|2323b76a-db98-4e0...|2016-03-13 00:00:00|  King Terror V| 824733727|    3|\n",
      "|00169217-cca6-4b4...|cc040aa1-f206-11e...|2323b76a-db98-4e0...|2016-03-13 00:00:00|  King Terror V|2078758684|    3|\n",
      "|00169217-cca6-4b4...|cc040aa1-f206-11e...|2323b76a-db98-4e0...|2016-03-13 00:00:00|  King Terror V|2430242797|    1|\n",
      "|00169217-cca6-4b4...|cc040aa1-f206-11e...|2323b76a-db98-4e0...|2016-03-13 00:00:00|  King Terror V| 466059351|    1|\n",
      "|00169217-cca6-4b4...|cc040aa1-f206-11e...|2323b76a-db98-4e0...|2016-03-13 00:00:00|  King Terror V|2782465081|    2|\n",
      "|00169217-cca6-4b4...|cc040aa1-f206-11e...|2323b76a-db98-4e0...|2016-03-13 00:00:00|  King Terror V|2287626681|    1|\n",
      "|00169217-cca6-4b4...|cc040aa1-f206-11e...|2323b76a-db98-4e0...|2016-03-13 00:00:00|  King Terror V|2782465081|    2|\n",
      "|00169217-cca6-4b4...|cc040aa1-f206-11e...|2323b76a-db98-4e0...|2016-03-13 00:00:00|  King Terror V|3261908037|   10|\n",
      "|00169217-cca6-4b4...|cc040aa1-f206-11e...|2323b76a-db98-4e0...|2016-03-13 00:00:00|  King Terror V|2287626681|    1|\n",
      "|00169217-cca6-4b4...|cc040aa1-f206-11e...|2323b76a-db98-4e0...|2016-03-13 00:00:00|  King Terror V|2078758684|    1|\n",
      "|00169217-cca6-4b4...|cc040aa1-f206-11e...|2323b76a-db98-4e0...|2016-03-13 00:00:00|  King Terror V| 824733727|    1|\n",
      "|00169217-cca6-4b4...|cc040aa1-f206-11e...|2323b76a-db98-4e0...|2016-03-13 00:00:00|  King Terror V|3261908037|    9|\n",
      "|00169217-cca6-4b4...|cc040aa1-f206-11e...|2323b76a-db98-4e0...|2016-03-13 00:00:00|  King Terror V|2782465081|    1|\n",
      "|00169217-cca6-4b4...|cc040aa1-f206-11e...|2323b76a-db98-4e0...|2016-03-13 00:00:00|  King Terror V|2078758684|    1|\n",
      "|00169217-cca6-4b4...|cc040aa1-f206-11e...|2323b76a-db98-4e0...|2016-03-13 00:00:00|  King Terror V|2287626681|    1|\n",
      "|00169217-cca6-4b4...|cc040aa1-f206-11e...|2323b76a-db98-4e0...|2016-03-13 00:00:00|  King Terror V|3261908037|    6|\n",
      "|00169217-cca6-4b4...|cc040aa1-f206-11e...|2323b76a-db98-4e0...|2016-03-13 00:00:00|  King Terror V|2782465081|    1|\n",
      "|00169217-cca6-4b4...|cc040aa1-f206-11e...|2323b76a-db98-4e0...|2016-03-13 00:00:00|  King Terror V| 250435527|    1|\n",
      "+--------------------+--------------------+--------------------+-------------------+---------------+----------+-----+\n",
      "only showing top 20 rows\n",
      "\n"
     ]
    }
   ],
   "source": [
    "matches_df = spark.table(\"bootcamp.matches_bucketed\")\n",
    "match_details_df = spark.table(\"bootcamp.match_details_bucketed\")\n",
    "medals_matches_df = spark.table(\"bootcamp.medals_matches_players_bucketed\")\n",
    "\n",
    "query = \"select mb.match_id, mb.mapid, mb.playlist_id, mb.completion_date, mdb.player_gamertag, mmpd.medal_id, mmpd.count \\\n",
    "    from bootcamp.matches_bucketed mb join bootcamp.match_details_bucketed mdb \\\n",
    "    on mb.match_id = mdb.match_id\\\n",
    "    join bootcamp.medals_matches_players_bucketed mmpd on mb.match_id = mmpd.match_id\"\n",
    "result_df = spark.sql(query)\n",
    "result_df.show()"
   ]
  },
  {
   "cell_type": "code",
   "execution_count": 66,
   "id": "0cf78fee-91c7-4aad-bfe0-a3f46d759a66",
   "metadata": {},
   "outputs": [
    {
     "name": "stdout",
     "output_type": "stream",
     "text": [
      "+---------------+-----------+-----------+------------------+\n",
      "|player_gamertag|total_kills|total_games|avg_kills_per_game|\n",
      "+---------------+-----------+-----------+------------------+\n",
      "|   gimpinator14|        109|          1|             109.0|\n",
      "+---------------+-----------+-----------+------------------+\n",
      "\n"
     ]
    }
   ],
   "source": [
    "# Which player averages the most kills per game?\n",
    "query = \"\"\"\n",
    "SELECT \n",
    "    player_gamertag,\n",
    "    SUM(player_total_kills) AS total_kills,\n",
    "    COUNT(DISTINCT match_id) AS total_games,\n",
    "    SUM(player_total_kills) / COUNT(DISTINCT match_id) AS avg_kills_per_game\n",
    "FROM bootcamp.match_details_bucketed\n",
    "GROUP BY player_gamertag\n",
    "ORDER BY avg_kills_per_game DESC\n",
    "LIMIT 1\n",
    "\"\"\"\n",
    "\n",
    "# Execute the query\n",
    "most_kills_player = spark.sql(query)\n",
    "\n",
    "# Show the result\n",
    "most_kills_player.show()\n"
   ]
  },
  {
   "cell_type": "code",
   "execution_count": 64,
   "id": "d8b0c8e0-d48f-4fb7-b1f6-e91f06c166ec",
   "metadata": {},
   "outputs": [
    {
     "name": "stdout",
     "output_type": "stream",
     "text": [
      "+--------------------+------+\n",
      "|         playlist_id| count|\n",
      "+--------------------+------+\n",
      "|f72e0ef0-7c4a-430...|202710|\n",
      "|c98949ae-60a8-43d...|107654|\n",
      "|2323b76a-db98-4e0...| 92282|\n",
      "|892189e9-d712-4bd...| 87012|\n",
      "|0bcf2be1-3168-4e4...| 67149|\n",
      "|780cc101-005c-4fc...| 66081|\n",
      "|d0766624-dbd7-453...| 23969|\n",
      "|f27a65eb-2d11-496...| 22032|\n",
      "|355dc154-9809-4ed...| 17194|\n",
      "|bc0f8ad6-31e6-4a1...| 11162|\n",
      "|7b7e892c-d9b7-4b0...| 10685|\n",
      "|7385b4a1-86bf-4ae...|  9718|\n",
      "|5728f612-3f20-445...|  8991|\n",
      "|819eb188-1a1c-48b...|  5926|\n",
      "|f0c9ef9a-48bd-4b2...|  4849|\n",
      "|4b12472e-2a06-423...|  3930|\n",
      "|b5d5a242-ffa5-4d8...|  3778|\n",
      "|d21c8381-26f1-4d6...|  3617|\n",
      "|0504ca3c-de41-48f...|  2254|\n",
      "|88b7de19-113c-4be...|  2116|\n",
      "+--------------------+------+\n",
      "only showing top 20 rows\n",
      "\n"
     ]
    }
   ],
   "source": [
    "# Reading the bucketed tables\n",
    "matches_bucketed_df = spark.table(\"bootcamp.matches_bucketed\")\n",
    "medals_matches_bucketed_df = spark.table(\"bootcamp.medals_matches_players_bucketed\")\n",
    "\n",
    "# Explicit bucket join on match_id\n",
    "bucket_join_df = matches_bucketed_df.join(\n",
    "    medals_matches_bucketed_df,\n",
    "    on=\"match_id\",  # Join on bucketed column\n",
    "    how=\"inner\"\n",
    ")\n",
    "\n",
    "# Example aggregation to show the result\n",
    "result_df = bucket_join_df.groupBy(\"playlist_id\").count().orderBy(F.col(\"count\").desc())\n",
    "\n",
    "# Show the result of the bucket join\n",
    "result_df.show()"
   ]
  },
  {
   "cell_type": "code",
   "execution_count": 7,
   "id": "47281b72-a887-4a7f-b534-472b6278b3a3",
   "metadata": {},
   "outputs": [
    {
     "name": "stdout",
     "output_type": "stream",
     "text": [
      "+--------------------+-------------+\n",
      "|         playlist_id|total_matches|\n",
      "+--------------------+-------------+\n",
      "|f72e0ef0-7c4a-430...|         9350|\n",
      "+--------------------+-------------+\n",
      "\n"
     ]
    }
   ],
   "source": [
    "# Which playlist gets played the most\n",
    "query = \"\"\"\n",
    "SELECT \n",
    "    playlist_id,\n",
    "    COUNT(match_id) AS total_matches\n",
    "FROM bootcamp.matches_bucketed\n",
    "GROUP BY playlist_id\n",
    "ORDER BY total_matches DESC\n",
    "LIMIT 1\n",
    "\"\"\"\n",
    "\n",
    "# Execute the query\n",
    "most_played_playlist = spark.sql(query)\n",
    "\n",
    "# Show the result\n",
    "most_played_playlist.show()\n"
   ]
  },
  {
   "cell_type": "code",
   "execution_count": 13,
   "id": "9cd87ff5-28c9-4af3-8044-37968dba0f63",
   "metadata": {},
   "outputs": [
    {
     "name": "stdout",
     "output_type": "stream",
     "text": [
      "+--------------------+-----+\n",
      "|               mapid|count|\n",
      "+--------------------+-----+\n",
      "|c7edbf0f-f206-11e...| 8587|\n",
      "+--------------------+-----+\n",
      "\n"
     ]
    }
   ],
   "source": [
    "#Which map gets played the most?\n",
    "# Broadcast join - maps being broadcasted\n",
    "\n",
    "from pyspark.sql.functions import broadcast\n",
    "matches_bucketed_df = spark.table(\"bootcamp.matches_bucketed\")\n",
    "\n",
    "# Perform a broadcast join between matches and maps\n",
    "result_df = matches_bucketed_df.join(\n",
    "    broadcast(maps_df.alias(\"maps\")),\n",
    "    matches_bucketed_df.mapid == maps_df.mapid, \n",
    "    \"inner\"\n",
    ")\n",
    "\n",
    "# Aggregate to find the most played map\n",
    "most_played_map = result_df.groupBy(\"maps.mapid\").count().orderBy(\"count\", ascending=False).limit(1)\n",
    "\n",
    "# Show the result\n",
    "most_played_map.show()"
   ]
  },
  {
   "cell_type": "code",
   "execution_count": 40,
   "id": "bb83c3a3-5644-46ca-be9c-998d4b47a794",
   "metadata": {},
   "outputs": [
    {
     "name": "stdout",
     "output_type": "stream",
     "text": [
      "+--------------------+--------------+-----+\n",
      "|               mapid|          name|count|\n",
      "+--------------------+--------------+-----+\n",
      "|c7edbf0f-f206-11e...|Breakout Arena| 6740|\n",
      "+--------------------+--------------+-----+\n",
      "only showing top 1 row\n",
      "\n"
     ]
    }
   ],
   "source": [
    "#Which map do players get the most Killing Spree medals on?\n",
    "\n",
    "medals_matches_bucketed_df = spark.table(\"bootcamp.medals_matches_players_bucketed\")\n",
    "\n",
    "killing_spree_medals_df = medals_df.filter(F.col(\"classification\") == \"KillingSpree\")\n",
    "\n",
    "\n",
    "# Perform a broadcast join between medals_matches and medals\n",
    "killing_spree_matches_df = medals_matches_bucketed_df.join(\n",
    "    broadcast(killing_spree_medals_df.alias(\"medals\")),\n",
    "    medals_matches_bucketed_df.medal_id == medals_df.medal_id, \n",
    "    \"inner\"\n",
    ")\n",
    "\n",
    "# join with matches_df to get the map_id\n",
    "killing_spree_map_df = killing_spree_matches_df.join(\n",
    "    matches_df,\n",
    "    on=\"match_id\",\n",
    "    how=\"inner\"\n",
    ")\n",
    "\n",
    "# join with maps to get map_name\n",
    "killing_spree_map_df = killing_spree_map_df.join(\n",
    "    broadcast(maps_df.alias(\"maps\")),\n",
    "    killing_spree_map_df.mapid == maps_df.mapid,\n",
    "    \"inner\")\n",
    "\n",
    "killing_spree_count_df = killing_spree_map_df.groupBy(\"maps.mapid\", \"maps.name\") \\\n",
    "    .count() \\\n",
    "    .orderBy(F.col(\"count\").desc())\n",
    "\n",
    "killing_spree_count_df.show(1)\n"
   ]
  },
  {
   "cell_type": "code",
   "execution_count": null,
   "id": "3346eff8-a117-4b39-9192-bb16435f82ab",
   "metadata": {},
   "outputs": [],
   "source": [
    "%%sql \n",
    "SELECT\n",
    "  *\n",
    "FROM\n",
    "  bootcamp.medals_matches_players_bucketed.files;"
   ]
  },
  {
   "cell_type": "code",
   "execution_count": 49,
   "id": "d1d915e7-97d1-40fe-90c2-8ddd8e317b5e",
   "metadata": {},
   "outputs": [
    {
     "data": {
      "text/html": [
       "<table>\n",
       "    <thead>\n",
       "        <tr>\n",
       "        </tr>\n",
       "    </thead>\n",
       "    <tbody>\n",
       "    </tbody>\n",
       "</table>"
      ],
      "text/plain": [
       "++\n",
       "||\n",
       "++\n",
       "++"
      ]
     },
     "execution_count": 49,
     "metadata": {},
     "output_type": "execute_result"
    }
   ],
   "source": [
    "%%sql\n",
    "create table if not exists bootcamp.result_unsorted(\n",
    "    match_id STRING,\n",
    "    mapid STRING,\n",
    "    playlist_id STRING,\n",
    "    completion_date TIMESTAMP,\n",
    "    player_gamertag STRING,\n",
    "    medal_id STRING,\n",
    "    count INTEGER\n",
    ")\n",
    "USING iceberg\n",
    "PARTITIONED BY (year(completion_date));"
   ]
  },
  {
   "cell_type": "code",
   "execution_count": 50,
   "id": "3cc1cfb3-1dfd-41c2-bfb1-531335cfa151",
   "metadata": {},
   "outputs": [
    {
     "data": {
      "text/html": [
       "<table>\n",
       "    <thead>\n",
       "        <tr>\n",
       "        </tr>\n",
       "    </thead>\n",
       "    <tbody>\n",
       "    </tbody>\n",
       "</table>"
      ],
      "text/plain": [
       "++\n",
       "||\n",
       "++\n",
       "++"
      ]
     },
     "execution_count": 50,
     "metadata": {},
     "output_type": "execute_result"
    }
   ],
   "source": [
    "%%sql\n",
    "create table if not exists bootcamp.result_sorted(\n",
    "    match_id STRING,\n",
    "    mapid STRING,\n",
    "    playlist_id STRING,\n",
    "    completion_date TIMESTAMP,\n",
    "    player_gamertag STRING,\n",
    "    medal_id STRING,\n",
    "    count INTEGER\n",
    ")\n",
    "USING iceberg\n",
    "PARTITIONED BY (year(completion_date));"
   ]
  },
  {
   "cell_type": "code",
   "execution_count": 62,
   "id": "08cf6965-dc0a-44a4-83cd-36ae11ce8e36",
   "metadata": {},
   "outputs": [
    {
     "name": "stderr",
     "output_type": "stream",
     "text": [
      "                                                                                \r"
     ]
    }
   ],
   "source": [
    "# joining matches, match_details and medals_matches_players\n",
    "# applying sortpartition with this\n",
    "\n",
    "\n",
    "matches_df = spark.table(\"bootcamp.matches_bucketed\")\n",
    "match_details_df = spark.table(\"bootcamp.match_details_bucketed\")\n",
    "medals_matches_df = spark.table(\"bootcamp.medals_matches_players_bucketed\")\n",
    "\n",
    "query = \"select mb.match_id, mb.mapid, mb.playlist_id, mb.completion_date, mdb.player_gamertag, mmpd.medal_id, mmpd.count \\\n",
    "    from bootcamp.matches_bucketed mb join bootcamp.match_details_bucketed mdb \\\n",
    "    on mb.match_id = mdb.match_id\\\n",
    "    join bootcamp.medals_matches_players_bucketed mmpd on mb.match_id = mmpd.match_id\"\n",
    "result_df = spark.sql(query)\n",
    "#result_df.show()\n",
    "\n",
    "start_df = result_df.repartition(4, F.col(\"completion_date\"))\n",
    "sort_df = start_df.sortWithinPartitions(F.col(\"playlist_id\"))\n",
    "\n",
    "start_df.write.mode(\"overwrite\").saveAsTable(\"bootcamp.result_unsorted\")\n",
    "sort_df.write.mode(\"overwrite\").saveAsTable(\"bootcamp.result_sorted\")"
   ]
  },
  {
   "cell_type": "code",
   "execution_count": 63,
   "id": "638fba06-a3cf-404b-88a0-a5d54ca3832b",
   "metadata": {},
   "outputs": [
    {
     "data": {
      "text/html": [
       "<table>\n",
       "    <thead>\n",
       "        <tr>\n",
       "            <th>size</th>\n",
       "            <th>num_files</th>\n",
       "            <th>unsorted</th>\n",
       "        </tr>\n",
       "    </thead>\n",
       "    <tbody>\n",
       "        <tr>\n",
       "            <td>4312755</td>\n",
       "            <td>4</td>\n",
       "            <td>unsorted</td>\n",
       "        </tr>\n",
       "        <tr>\n",
       "            <td>9243655</td>\n",
       "            <td>4</td>\n",
       "            <td>sorted</td>\n",
       "        </tr>\n",
       "    </tbody>\n",
       "</table>"
      ],
      "text/plain": [
       "+---------+-----------+----------+\n",
       "|    size | num_files | unsorted |\n",
       "+---------+-----------+----------+\n",
       "| 4312755 |         4 | unsorted |\n",
       "| 9243655 |         4 |   sorted |\n",
       "+---------+-----------+----------+"
      ]
     },
     "execution_count": 63,
     "metadata": {},
     "output_type": "execute_result"
    }
   ],
   "source": [
    "%%sql\n",
    "\n",
    "SELECT SUM(file_size_in_bytes) as size, COUNT(1) as num_files, 'unsorted' \n",
    "FROM demo.bootcamp.result_unsorted.files\n",
    "\n",
    "UNION ALL\n",
    "SELECT SUM(file_size_in_bytes) as size, COUNT(1) as num_files, 'sorted' \n",
    "FROM demo.bootcamp.result_sorted.files"
   ]
  },
  {
   "cell_type": "code",
   "execution_count": 24,
   "id": "d5aae5db-76dd-4d81-9863-361d6f0b7eba",
   "metadata": {},
   "outputs": [
    {
     "name": "stdout",
     "output_type": "stream",
     "text": [
      "== Physical Plan ==\n",
      "AdaptiveSparkPlan isFinalPlan=false\n",
      "+- SortMergeJoin [match_id#1099], [match_id#1103], Inner\n",
      "   :- Sort [match_id#1099 ASC NULLS FIRST], false, 0\n",
      "   :  +- Exchange hashpartitioning(match_id#1099, 200), ENSURE_REQUIREMENTS, [plan_id=535]\n",
      "   :     +- Filter isnotnull(match_id#1099)\n",
      "   :        +- BatchScan demo.bootcamp.match_details_bucketed[match_id#1099, player_gamertag#1100, player_total_kills#1101, player_total_deaths#1102] demo.bootcamp.match_details_bucketed (branch=null) [filters=match_id IS NOT NULL, groupedBy=] RuntimeFilters: []\n",
      "   +- Sort [match_id#1103 ASC NULLS FIRST], false, 0\n",
      "      +- Exchange hashpartitioning(match_id#1103, 200), ENSURE_REQUIREMENTS, [plan_id=536]\n",
      "         +- Filter isnotnull(match_id#1103)\n",
      "            +- BatchScan demo.bootcamp.matches_bucketed[match_id#1103, mapid#1104, playlist_id#1105, is_match_over#1106, is_team_game#1107, completion_date#1108] demo.bootcamp.matches_bucketed (branch=null) [filters=match_id IS NOT NULL, groupedBy=] RuntimeFilters: []\n",
      "\n",
      "\n"
     ]
    }
   ],
   "source": [
    "# Bucket join `match_details`, `matches`, and `medal_matches_players` on `match_id` with `16` buckets \n",
    "\n",
    "spark.sql(\"\"\"\n",
    "    SELECT * FROM bootcamp.match_details_bucketed mdb JOIN bootcamp.matches_bucketed md \n",
    "    ON mdb.match_id = md.match_id   \n",
    "\"\"\").explain()\n"
   ]
  },
  {
   "cell_type": "code",
   "execution_count": null,
   "id": "8c2b7d9e-739b-46ce-a216-b11cb85e2cec",
   "metadata": {},
   "outputs": [],
   "source": []
  },
  {
   "cell_type": "code",
   "execution_count": 25,
   "id": "80781c6e-6d65-4ff9-9fa4-4f80265566ad",
   "metadata": {},
   "outputs": [
    {
     "name": "stdout",
     "output_type": "stream",
     "text": [
      "== Physical Plan ==\n",
      "AdaptiveSparkPlan isFinalPlan=false\n",
      "+- SortMergeJoin [match_id#1139], [match_id#1149], Inner\n",
      "   :- SortMergeJoin [match_id#1139], [match_id#1143], Inner\n",
      "   :  :- Sort [match_id#1139 ASC NULLS FIRST], false, 0\n",
      "   :  :  +- Exchange hashpartitioning(match_id#1139, 200), ENSURE_REQUIREMENTS, [plan_id=575]\n",
      "   :  :     +- Filter isnotnull(match_id#1139)\n",
      "   :  :        +- BatchScan demo.bootcamp.match_details_bucketed[match_id#1139, player_gamertag#1140, player_total_kills#1141, player_total_deaths#1142] demo.bootcamp.match_details_bucketed (branch=null) [filters=match_id IS NOT NULL, groupedBy=] RuntimeFilters: []\n",
      "   :  +- Sort [match_id#1143 ASC NULLS FIRST], false, 0\n",
      "   :     +- Exchange hashpartitioning(match_id#1143, 200), ENSURE_REQUIREMENTS, [plan_id=576]\n",
      "   :        +- Filter isnotnull(match_id#1143)\n",
      "   :           +- BatchScan demo.bootcamp.matches_bucketed[match_id#1143, mapid#1144, playlist_id#1145, is_match_over#1146, is_team_game#1147, completion_date#1148] demo.bootcamp.matches_bucketed (branch=null) [filters=match_id IS NOT NULL, groupedBy=] RuntimeFilters: []\n",
      "   +- Sort [match_id#1149 ASC NULLS FIRST], false, 0\n",
      "      +- Exchange hashpartitioning(match_id#1149, 200), ENSURE_REQUIREMENTS, [plan_id=582]\n",
      "         +- Filter isnotnull(match_id#1149)\n",
      "            +- BatchScan demo.bootcamp.medals_matches_players_bucketed[match_id#1149, player_gamertag#1150, medal_id#1151L, count#1152] demo.bootcamp.medals_matches_players_bucketed (branch=null) [filters=match_id IS NOT NULL, groupedBy=] RuntimeFilters: []\n",
      "\n",
      "\n"
     ]
    }
   ],
   "source": [
    "spark.sql(\"\"\"\n",
    "    SELECT * FROM bootcamp.match_details_bucketed mdb JOIN bootcamp.matches_bucketed md \n",
    "    ON mdb.match_id = md.match_id\n",
    "    join bootcamp.medals_matches_players_bucketed mmpd\n",
    "    on mdb.match_id = mmpd.match_id\n",
    "\"\"\").explain()"
   ]
  },
  {
   "cell_type": "code",
   "execution_count": null,
   "id": "c795feb0-32f1-4e33-9515-3a374544caa4",
   "metadata": {},
   "outputs": [],
   "source": []
  }
 ],
 "metadata": {
  "kernelspec": {
   "display_name": "Python 3 (ipykernel)",
   "language": "python",
   "name": "python3"
  },
  "language_info": {
   "codemirror_mode": {
    "name": "ipython",
    "version": 3
   },
   "file_extension": ".py",
   "mimetype": "text/x-python",
   "name": "python",
   "nbconvert_exporter": "python",
   "pygments_lexer": "ipython3",
   "version": "3.9.18"
  }
 },
 "nbformat": 4,
 "nbformat_minor": 5
}
